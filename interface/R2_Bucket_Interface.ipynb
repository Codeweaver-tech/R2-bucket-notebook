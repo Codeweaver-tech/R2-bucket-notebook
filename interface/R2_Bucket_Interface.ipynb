import boto3
from ipywidgets import interact, widgets, VBox, HBox, Output
from IPython.display import display
from config.config_template import ACCESS_KEY, SECRET_KEY, ENDPOINT_URL

# Set up the boto3 session
session = boto3.Session(
    aws_access_key_id=ACCESS_KEY,
    aws_secret_access_key=SECRET_KEY
)

s3 = session.resource('s3', endpoint_url=ENDPOINT_URL)

output = Output()

def list_buckets():
    with output:
        output.clear_output()
        for bucket in s3.buckets.all():
            print(f"Bucket: {bucket.name}")

def list_objects(bucket_name):
    with output:
        output.clear_output()
        print(f"Contents of {bucket_name}:")
        bucket = s3.Bucket(bucket_name)
        for obj in bucket.objects.all():
            print(f" - {obj.key}")

def upload_file(bucket_name, file_path, object_name):
    with output:
        output.clear_output()
        s3.Bucket(bucket_name).upload_file(file_path, object_name)
        print(f"Uploaded {file_path} as {object_name} to {bucket_name}")

def download_file(bucket_name, object_name, download_path):
    with output:
        output.clear_output()
        s3.Bucket(bucket_name).download_file(object_name, download_path)
        print(f"Downloaded {object_name} to {download_path}")

bucket_list_btn = widgets.Button(description="List Buckets")
bucket_list_btn.on_click(lambda b: list_buckets())

bucket_name_input = widgets.Text(value='', placeholder='Enter bucket name', description='Bucket:')
object_list_btn = widgets.Button(description="List Objects")
object_list_btn.on_click(lambda b: list_objects(bucket_name_input.value))

upload_path = widgets.Text(value='', placeholder='Local file path', description='File:')
upload_name = widgets.Text(value='', placeholder='R2 object name', description='Object:')
upload_btn = widgets.Button(description="Upload File")
upload_btn.on_click(lambda b: upload_file(bucket_name_input.value, upload_path.value, upload_name.value))

download_name = widgets.Text(value='', placeholder='R2 object name', description='Object:')
download_path = widgets.Text(value='', placeholder='Local download path', description='Download to:')
download_btn = widgets.Button(description="Download File")
download_btn.on_click(lambda b: download_file(bucket_name_input.value, download_name.value, download_path.value))

display(VBox([
    HBox([bucket_list_btn, bucket_name_input, object_list_btn]),
    HBox([upload_path, upload_name, upload_btn]),
    HBox([download_name, download_path, download_btn]),
    output
]))
